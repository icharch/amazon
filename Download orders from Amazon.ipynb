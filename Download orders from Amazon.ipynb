{
 "cells": [
  {
   "cell_type": "code",
   "execution_count": 1,
   "id": "0aad996b",
   "metadata": {},
   "outputs": [],
   "source": [
    "from sp_api.api import Orders"
   ]
  },
  {
   "cell_type": "code",
   "execution_count": 5,
   "id": "ce41b70c",
   "metadata": {},
   "outputs": [],
   "source": [
    "from sp_api.api import Reports\n",
    "from sp_api.api import Feeds\n",
    "from sp_api.base import SellingApiException\n",
    "from sp_api.base.reportTypes import ReportType\n",
    "from datetime import datetime, timedelta"
   ]
  },
  {
   "cell_type": "code",
   "execution_count": null,
   "id": "3780b680",
   "metadata": {},
   "outputs": [],
   "source": []
  },
  {
   "cell_type": "code",
   "execution_count": null,
   "id": "4c5fa666",
   "metadata": {},
   "outputs": [],
   "source": []
  }
 ],
 "metadata": {
  "kernelspec": {
   "display_name": "amazon-fyc0pAlI",
   "language": "python",
   "name": "python3"
  },
  "language_info": {
   "codemirror_mode": {
    "name": "ipython",
    "version": 3
   },
   "file_extension": ".py",
   "mimetype": "text/x-python",
   "name": "python",
   "nbconvert_exporter": "python",
   "pygments_lexer": "ipython3",
   "version": "3.10.9 (main, Dec 15 2022, 10:44:50) [Clang 14.0.0 (clang-1400.0.29.202)]"
  },
  "vscode": {
   "interpreter": {
    "hash": "367c857cd39c3fda90beaec54b280978c44d3bf488382d6aa9ca86df90993b8c"
   }
  }
 },
 "nbformat": 4,
 "nbformat_minor": 5
}
